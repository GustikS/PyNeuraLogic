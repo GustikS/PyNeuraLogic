{
 "cells": [
  {
   "cell_type": "markdown",
   "metadata": {},
   "source": [
    "## Working with Problems"
   ]
  },
  {
   "cell_type": "markdown",
   "metadata": {},
   "source": [
    "Problems in the NeuraLogic framework are being used to describe the computation graph using higher-level language/constructs.\n",
    "\n",
    "Problems can be described in two different but quite similar ways:\n",
    "- Using Datalog-like language and loading problems from files.\n",
    "- Using Python objects.\n"
   ]
  },
  {
   "cell_type": "markdown",
   "metadata": {},
   "source": [
    "### Datalog-like language\n",
    "\n",
    "Visit [the NeuraLogic project](https://github.com/GustikS/NeuraLogic) to learn more about this custom language.\n",
    "\n",
    "To use this language it is necessary to write your problem/program into files and load them.\n"
   ]
  },
  {
   "cell_type": "code",
   "execution_count": null,
   "metadata": {},
   "outputs": [],
   "source": [
    "from neuralogic.core import Problem, Backend    #todo gusta: nezapomenout promazat stare smazane veci...(Problem)\n",
    "from neuralogic.core.settings import Settings\n",
    "\n",
    "\n",
    "# Loads and builds problem for the dynet backend with default settings\n",
    "model, dataset = Problem.build_from_dir(\"path_to_problems_directory\", Backend.DYNET, Settings())\n",
    "\n",
    "\n",
    "# Loads and builds problem for the dynet backend with default settings\n",
    "model, dataset = Problem.build_from_files(\n",
    "    \"path_to_rules_file\",\n",
    "    Backend.DYNET,\n",
    "    Settings(),\n",
    "    example_file=\"path_to_examples_file\",  # Optional\n",
    "    queries_file=\"path_to_queries_file\",  # Optional\n",
    ")\n"
   ]
  },
  {
   "cell_type": "markdown",
   "metadata": {},
   "source": [
    "### Problems via Python objects"
   ]
  },
  {
   "cell_type": "markdown",
   "metadata": {},
   "source": [
    "Writing and working with problems in files can be cumbersome and repetitive. PyNeuraLogic solves this issue by leveraging Python's expressiveness and features. This means that it is possible to create different constructs during the runtime utilizing for-loops, comprehensions, iter-utils, and more.\n",
    "\n",
    "Problems in python are divided, the same way as are in files, into three sections - rules (templates), examples, and queries."
   ]
  },
  {
   "cell_type": "code",
   "execution_count": null,
   "metadata": {},
   "outputs": [],
   "source": [
    "from neuralogic.core import Problem\n",
    "\n",
    "\n",
    "with Problem().context() as problem:  # You can pass settings into Problem constructor - Problem(settings)\n",
    "    \n",
    "    problem.add_rule(...)  # Add one rule\n",
    "    problem.add_rules(...)  # Add sequence of rules\n",
    "    \n",
    "    problem.add_example(...)  # Add one example\n",
    "    problem.add_examples(...)  # Add sequence of examples\n",
    "    \n",
    "    problem.add_query(...)  # Add query\n",
    "    problem.add_queries(...)  # Add sequence of queries"
   ]
  },
  {
   "cell_type": "markdown",
   "metadata": {},
   "source": [
    "This example shows off interface for adding constructs into our problem. It is necessary to write all constructs inside the `with` block (context manager), which provides the management of all factories in the background. It is also possible to omit using the `with` block and manage factories manually.\n"
   ]
  },
  {
   "cell_type": "code",
   "execution_count": null,
   "metadata": {},
   "outputs": [],
   "source": [
    "model, dataset = problem.build(Backend.DYNET)  # Builds problem for the dynet backend"
   ]
  },
  {
   "cell_type": "markdown",
   "metadata": {},
   "source": [
    "Building the problem requires specifying the backend that the problem is going to be used on and will yield a model (learnable parameters) and a dataset. It is also possible to show the problem representation in the former problem notation using the following functions."
   ]
  },
  {
   "cell_type": "code",
   "execution_count": null,
   "metadata": {},
   "outputs": [],
   "source": [
    "problem.rules_to_str()  # Returns string representing the template\n",
    "problem.examples_to_str()  # Returns string representing the examples\n",
    "problem.queries_to_str()  # Returns string representing the queries"
   ]
  },
  {
   "cell_type": "markdown",
   "metadata": {},
   "source": [
    "### Atom factory"
   ]
  },
  {
   "cell_type": "markdown",
   "metadata": {},
   "source": [
    "The atom factory serves as a simple interface for atom creation. The default atom factory is bound to the `Atom` variable inside the `neuralogic.core` module. "
   ]
  },
  {
   "cell_type": "code",
   "execution_count": null,
   "metadata": {},
   "outputs": [],
   "source": [
    "from neuralogic.core import Atom\n",
    "from neuralogic.core.constructs.java_objects import set_java_factory, JavaFactory\n",
    "\n",
    "\n",
    "# Manually set JavaFactory - this is normally handled by `with` block (with problem.context(): ... )\n",
    "set_java_factory(JavaFactory())\n",
    "\n",
    "Atom.my_atom  # Create new atom with predicate my_atom/0\n",
    "Atom.my_atom(1, 2)  # Create new atom with predicate my_atom/2 - terms are two constants\n",
    "Atom.my_atom(\"X\", \"Y\")  # Create new atom with predicate my_atom/2 - terms are two variables\n",
    "\n",
    "# Create new atom with predicate my_atom/0 and add learnable weights with shape (2,)\n",
    "Atom.my_atom[2,]\n",
    "\n",
    "# Create new atom with predicate my_atom/0 and add learnable weight with shape (1,) and initial value 2.0\n",
    "Atom.my_atom[2]\n",
    "\n",
    "# Create new atom with predicate my_atom/0 and add learnable weight with shape (3,) and initial values [1.0, 2.0, 3.0]\n",
    "Atom.my_atom[[1, 2, 3]]\n",
    "\n",
    "# Create new atom with predicate my_atom/0 and add NOT learnable weight with shape (1,) and fixed value 2.0\n",
    "Atom.my_atom[2].fixed()"
   ]
  }
 ],
 "metadata": {
  "kernelspec": {
   "display_name": "Python 3",
   "language": "python",
   "name": "python3"
  },
  "language_info": {
   "codemirror_mode": {
    "name": "ipython",
    "version": 3
   },
   "file_extension": ".py",
   "mimetype": "text/x-python",
   "name": "python",
   "nbconvert_exporter": "python",
   "pygments_lexer": "ipython3",
   "version": "3.8.5"
  },
  "pycharm": {
   "stem_cell": {
    "cell_type": "raw",
    "source": [],
    "metadata": {
     "collapsed": false
    }
   }
  }
 },
 "nbformat": 4,
 "nbformat_minor": 1
}