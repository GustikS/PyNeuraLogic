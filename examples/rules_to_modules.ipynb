{
 "cells": [
  {
   "cell_type": "markdown",
   "metadata": {
    "collapsed": true
   },
   "source": [
    "# Rules to modules\n",
    "\n",
    "*WIP*"
   ]
  },
  {
   "cell_type": "code",
   "execution_count": 2,
   "metadata": {},
   "outputs": [],
   "source": [
    "from neuralogic.core import Atom, Template, Var, Term, Backend\n",
    "from neuralogic.core.settings import Settings, Optimizer\n",
    "from neuralogic.utils.data import Dataset\n",
    "\n",
    "\n",
    "from neuralogic.utils.templates.translator import translate_rules\n",
    "from neuralogic.utils.templates import TemplateList"
   ]
  },
  {
   "cell_type": "markdown",
   "metadata": {},
   "source": [
    "## Simple GCN (one layer)"
   ]
  },
  {
   "cell_type": "code",
   "execution_count": 3,
   "metadata": {},
   "outputs": [],
   "source": [
    "with Template().context() as template:\n",
    "    template.add_rules(\n",
    "        [\n",
    "            Atom.first(Var.X)[10,] <= (Atom.my_custom_edge(Var.Y, Var.X), Atom.my_custom_features(Var.Y)),\n",
    "        ]\n",
    "    )\n"
   ]
  },
  {
   "cell_type": "code",
   "execution_count": 4,
   "metadata": {},
   "outputs": [
    {
     "name": "stdout",
     "output_type": "stream",
     "text": [
      "{10} first(X) :- my_custom_edge(Y, X), my_custom_features(Y).\n"
     ]
    }
   ],
   "source": [
    "print(template)"
   ]
  },
  {
   "cell_type": "code",
   "execution_count": 5,
   "metadata": {},
   "outputs": [
    {
     "name": "stdout",
     "output_type": "stream",
     "text": [
      "[<neuralogic.utils.templates.modules.gcn.GCNConv object at 0x7fd678950a00>]\n"
     ]
    }
   ],
   "source": [
    "module_list = translate_rules(template.template)\n",
    "print(module_list.modules)"
   ]
  },
  {
   "cell_type": "code",
   "execution_count": 6,
   "metadata": {},
   "outputs": [
    {
     "name": "stdout",
     "output_type": "stream",
     "text": [
      "{10, 1} first(X) :- my_custom_features(Y), my_custom_edge(X, Y). [activation=identity, aggregation=sum]\n",
      "first/1 [activation=identity]\n"
     ]
    }
   ],
   "source": [
    "temp_template = Template(module_list=module_list)\n",
    "print(temp_template)"
   ]
  },
  {
   "cell_type": "code",
   "execution_count": 7,
   "metadata": {},
   "outputs": [
    {
     "data": {
      "text/plain": [
       "NeuraLogic(\n",
       "  (module_list): ModuleList(\n",
       "    (0): GCNConv(1, 10)\n",
       "  )\n",
       ")"
      ]
     },
     "execution_count": 7,
     "metadata": {},
     "output_type": "execute_result"
    }
   ],
   "source": [
    "temp_template.build(Backend.PYG, native_backend_models=True)"
   ]
  },
  {
   "cell_type": "markdown",
   "metadata": {},
   "source": [
    "# Simple GCN (two layers + embedding)"
   ]
  },
  {
   "cell_type": "code",
   "execution_count": 8,
   "metadata": {},
   "outputs": [],
   "source": [
    "with Template().context() as template:\n",
    "    template.add_rules(\n",
    "        [\n",
    "            Atom.my_custom_features(Var.A) <= Atom.f(Var.A),\n",
    "            Atom.second(Var.X)[10,] <= (Atom.my_custom_edge(Var.Y, Var.X), Atom.first(Var.Y)),\n",
    "            Atom.first(Var.X)[10,] <= (Atom.my_custom_edge(Var.Y, Var.X), Atom.my_custom_features(Var.Y)),\n",
    "        ]\n",
    "    )\n"
   ]
  },
  {
   "cell_type": "code",
   "execution_count": 9,
   "metadata": {},
   "outputs": [
    {
     "name": "stdout",
     "output_type": "stream",
     "text": [
      "my_custom_features(A) :- f(A).\n",
      "{10} second(X) :- my_custom_edge(Y, X), first(Y).\n",
      "{10} first(X) :- my_custom_edge(Y, X), my_custom_features(Y).\n"
     ]
    }
   ],
   "source": [
    "print(template)"
   ]
  },
  {
   "cell_type": "code",
   "execution_count": 10,
   "metadata": {},
   "outputs": [
    {
     "name": "stdout",
     "output_type": "stream",
     "text": [
      "{1, 1} my_custom_features(X) :- f(X). [activation=identity]\n",
      "my_custom_features/1 [activation=identity]\n",
      "{10, 1} first(X) :- my_custom_features(Y), my_custom_edge(X, Y). [activation=identity, aggregation=sum]\n",
      "first/1 [activation=identity]\n",
      "{10, 1} second(X) :- first(Y), my_custom_edge(X, Y). [activation=identity, aggregation=sum]\n",
      "second/1 [activation=identity]\n"
     ]
    }
   ],
   "source": [
    "module_list = translate_rules(template.template)\n",
    "temp_template = Template(module_list=module_list)\n",
    "print(temp_template)"
   ]
  },
  {
   "cell_type": "code",
   "execution_count": 11,
   "metadata": {},
   "outputs": [
    {
     "data": {
      "text/plain": [
       "NeuraLogic(\n",
       "  (module_list): ModuleList(\n",
       "    (0): Embedding(1, 1)\n",
       "    (1): GCNConv(1, 10)\n",
       "    (2): GCNConv(1, 10)\n",
       "  )\n",
       ")"
      ]
     },
     "execution_count": 11,
     "metadata": {},
     "output_type": "execute_result"
    }
   ],
   "source": [
    "temp_template.build(Backend.PYG, native_backend_models=True)"
   ]
  },
  {
   "cell_type": "markdown",
   "metadata": {},
   "source": [
    "# Simple SAGE"
   ]
  },
  {
   "cell_type": "code",
   "execution_count": 12,
   "metadata": {},
   "outputs": [],
   "source": [
    "with Template().context() as template:\n",
    "    template.add_rules(\n",
    "        [\n",
    "            Atom.first(Var.X)[10,] <= (Atom.my_custom_edge(Var.Y, Var.X), Atom.my_custom_features(Var.Y)),\n",
    "            Atom.first(Var.X)[10,] <= (Atom.my_custom_features(Var.X)),\n",
    "        ]\n",
    "    )\n"
   ]
  },
  {
   "cell_type": "code",
   "execution_count": 13,
   "metadata": {},
   "outputs": [
    {
     "name": "stdout",
     "output_type": "stream",
     "text": [
      "{10} first(X) :- my_custom_edge(Y, X), my_custom_features(Y).\n",
      "{10} first(X) :- my_custom_features(X).\n"
     ]
    }
   ],
   "source": [
    "print(template)"
   ]
  },
  {
   "cell_type": "code",
   "execution_count": 14,
   "metadata": {},
   "outputs": [
    {
     "name": "stdout",
     "output_type": "stream",
     "text": [
      "{10, 1} first(X) :- my_custom_features(Y), my_custom_edge(X, Y). [activation=identity, aggregation=avg]\n",
      "{10, 1} first(X) :- my_custom_features(X). [activation=identity]\n",
      "first/1 [activation=identity]\n"
     ]
    }
   ],
   "source": [
    "module_list = translate_rules(template.template)\n",
    "temp_template = Template(module_list=module_list)\n",
    "print(temp_template)"
   ]
  },
  {
   "cell_type": "code",
   "execution_count": 15,
   "metadata": {},
   "outputs": [
    {
     "data": {
      "text/plain": [
       "NeuraLogic(\n",
       "  (module_list): ModuleList(\n",
       "    (0): SAGEConv(1, 10)\n",
       "  )\n",
       ")"
      ]
     },
     "execution_count": 15,
     "metadata": {},
     "output_type": "execute_result"
    }
   ],
   "source": [
    "temp_template.build(Backend.PYG, native_backend_models=True)"
   ]
  },
  {
   "cell_type": "markdown",
   "metadata": {},
   "source": [
    "# Mess test (embedding, sage, gcn all mixed)"
   ]
  },
  {
   "cell_type": "code",
   "execution_count": 20,
   "metadata": {},
   "outputs": [],
   "source": [
    "with Template().context() as template:\n",
    "    template.add_rules(\n",
    "        [\n",
    "            Atom.first(Var.X)[10,] <= (Atom.my_custom_edge(Var.Y, Var.X), Atom.my_custom_features(Var.Y)),\n",
    "            Atom.my_custom_features(Var.A) <= Atom.f(Var.A),  # Embedding between sage\n",
    "            Atom.second(Var.Y)[10,] <= (Atom.my_custom_edge(Var.Y, Var.X), Atom.first(Var.Y)),  # GCN between sage\n",
    "            Atom.first(Var.X)[10,] <= (Atom.my_custom_features(Var.X)),\n",
    "        ]\n",
    "    )\n"
   ]
  },
  {
   "cell_type": "code",
   "execution_count": 21,
   "metadata": {},
   "outputs": [
    {
     "name": "stdout",
     "output_type": "stream",
     "text": [
      "{10} first(X) :- my_custom_edge(Y, X), my_custom_features(Y).\n",
      "my_custom_features(A) :- f(A).\n",
      "{10} second(Y) :- my_custom_edge(Y, X), first(Y).\n",
      "{10} first(X) :- my_custom_features(X).\n"
     ]
    }
   ],
   "source": [
    "print(template)"
   ]
  },
  {
   "cell_type": "code",
   "execution_count": 22,
   "metadata": {},
   "outputs": [
    {
     "name": "stdout",
     "output_type": "stream",
     "text": [
      "{1, 1} my_custom_features(X) :- f(X). [activation=identity]\n",
      "my_custom_features/1 [activation=identity]\n",
      "{10, 1} first(X) :- my_custom_features(Y), my_custom_edge(X, Y). [activation=identity, aggregation=avg]\n",
      "{10, 1} first(X) :- my_custom_features(X). [activation=identity]\n",
      "first/1 [activation=identity]\n",
      "{10, 1} second(X) :- first(Y), my_custom_edge(X, Y). [activation=identity, aggregation=sum]\n",
      "second/1 [activation=identity]\n"
     ]
    }
   ],
   "source": [
    "module_list = translate_rules(template.template)\n",
    "temp_template = Template(module_list=module_list)\n",
    "print(temp_template)"
   ]
  },
  {
   "cell_type": "code",
   "execution_count": 23,
   "metadata": {},
   "outputs": [
    {
     "data": {
      "text/plain": [
       "NeuraLogic(\n",
       "  (module_list): ModuleList(\n",
       "    (0): Embedding(1, 1)\n",
       "    (1): SAGEConv(1, 10)\n",
       "    (2): GCNConv(1, 10)\n",
       "  )\n",
       ")"
      ]
     },
     "execution_count": 23,
     "metadata": {},
     "output_type": "execute_result"
    }
   ],
   "source": [
    "temp_template.build(Backend.PYG, native_backend_models=True)"
   ]
  }
 ],
 "metadata": {
  "kernelspec": {
   "display_name": "Python 3",
   "language": "python",
   "name": "python3"
  },
  "language_info": {
   "codemirror_mode": {
    "name": "ipython",
    "version": 3
   },
   "file_extension": ".py",
   "mimetype": "text/x-python",
   "name": "python",
   "nbconvert_exporter": "python",
   "pygments_lexer": "ipython3",
   "version": "3.8.5"
  }
 },
 "nbformat": 4,
 "nbformat_minor": 1
}
