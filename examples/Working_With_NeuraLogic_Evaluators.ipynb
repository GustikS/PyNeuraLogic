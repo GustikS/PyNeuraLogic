{
 "cells": [
  {
   "cell_type": "markdown",
   "metadata": {
    "collapsed": true
   },
   "source": [
    "## Working with NeuraLogic Evaluators"
   ]
  },
  {
   "cell_type": "markdown",
   "metadata": {},
   "source": [
    "The NeuraLogic provides convenient evaluators which deal with the learning loop and let the user focus on the semantics and intricacies of the user's problem/program. It is possible to customize the behavior of evaluators by using the settings instance, for example by specifying optimizer, learning rate, number of epochs, and more. Those settings are either being passed into `get_evaluator`, inherited from the model or the problem, or the default settings are used."
   ]
  },
  {
   "cell_type": "code",
   "execution_count": 16,
   "metadata": {},
   "outputs": [],
   "source": [
    "from neuralogic.core import Backend\n",
    "from neuralogic.core.settings import Settings, Optimizer\n",
    "\n",
    "from neuralogic.utils.data import XOR_Vectorized\n",
    "from neuralogic.nn import get_evaluator\n",
    "\n",
    "# Create settings object with optimizer set to SGD and number of epochs to 200 \n",
    "settings = Settings(optimizer=Optimizer.SGD, epochs=100)\n",
    "\n",
    "# Get evaluator with the Dynet backend for xor problem\n",
    "evaluator = get_evaluator(Backend.DYNET, model_and_dataset=XOR_Vectorized(Backend.DYNET, settings))\n",
    "\n",
    "# To use get_evaluator for problem, pass it as problem argument. Evaluator will build it using the correct backend\n",
    "# evaluator = get_evaluator(Backend.DYNET, problem=problem)"
   ]
  },
  {
   "cell_type": "markdown",
   "metadata": {},
   "source": [
    "The training, as well as testing, comes in two forms - generator and non-generator. In which mode the evaluator will run training or testing can be specified using the `generator` argument.\n",
    "\n",
    "The training in the generator mode yields information about the total loss and the number of samples after each epoch. This allows working with those metrics online, such as plotting them as in the following example."
   ]
  },
  {
   "cell_type": "code",
   "execution_count": 17,
   "metadata": {},
   "outputs": [
    {
     "data": {
      "image/png": "[encoded data removed]",
      "text/plain": [
       "<Figure size 432x288 with 1 Axes>"
      ]
     },
     "metadata": {
      "needs_background": "light"
     },
     "output_type": "display_data"
    }
   ],
   "source": [
    "%matplotlib inline \n",
    "\n",
    "from IPython.display import clear_output\n",
    "import matplotlib.pyplot as plt\n",
    "\n",
    "\n",
    "average_losses = []\n",
    "total_losses = []\n",
    "\n",
    "# Get new evaluator\n",
    "evaluator = get_evaluator(Backend.DYNET, model_and_dataset=XOR_Vectorized(Backend.DYNET, settings))\n",
    "\n",
    "# Iterate over the training generator and plot loss online\n",
    "for epoch, (current_total_loss, number_of_samples) in enumerate(evaluator.train(generator=True)):\n",
    "    clear_output(wait=True)\n",
    "    plt.ylabel(\"Loss\")\n",
    "    plt.xlabel(\"Epoch\")\n",
    "\n",
    "    average_loss = current_total_loss / number_of_samples\n",
    "    \n",
    "    average_losses.append(average_loss)\n",
    "    total_losses.append(current_total_loss)\n",
    "    \n",
    "    plt.plot(average_losses, label=\"Average loss\")\n",
    "    plt.plot(total_losses, label=\"Total loss\")\n",
    "    plt.legend()\n",
    "    plt.pause(0.01)\n",
    "    plt.show()\n",
    "    "
   ]
  },
  {
   "cell_type": "markdown",
   "metadata": {},
   "source": [
    "Setting the `generator` argument to `False` will make the method return only metrics of the last epoch."
   ]
  },
  {
   "cell_type": "code",
   "execution_count": 22,
   "metadata": {},
   "outputs": [
    {
     "name": "stdout",
     "output_type": "stream",
     "text": [
      "0.0715928953140974 4\n"
     ]
    }
   ],
   "source": [
    "# Get new evaluator\n",
    "evaluator = get_evaluator(Backend.DYNET, model_and_dataset=XOR_Vectorized(Backend.DYNET, settings))\n",
    "\n",
    "# When the genrerator is set to False, only metrics of the last epochs are returned\n",
    "total_loss, number_of_samples = evaluator.train(generator=False)\n",
    "\n",
    "print(total_loss, number_of_samples)"
   ]
  },
  {
   "cell_type": "markdown",
   "metadata": {},
   "source": [
    "The testing in generator mode yields the target and the output of each sample."
   ]
  },
  {
   "cell_type": "code",
   "execution_count": 27,
   "metadata": {},
   "outputs": [
    {
     "name": "stdout",
     "output_type": "stream",
     "text": [
      "Target: 0.0, Output: 0.0, Mean squared error: 0.0\n",
      "Target: 1.0, Output: 0.821661651134491, Mean squared error: 0.03180456667607601\n",
      "Target: 1.0, Output: 0.8146876692771912, Mean squared error: 0.03434065991791968\n",
      "Target: 0.0, Output: -0.025180313736200333, Mean squared error: 0.0006340481998534792\n"
     ]
    }
   ],
   "source": [
    "from sklearn.metrics import mean_squared_error\n",
    "\n",
    "for target, output in evaluator.test(generator=True):\n",
    "    print(f\"Target: {target}, Output: {output}, Mean squared error: {mean_squared_error([target], [output])}\")"
   ]
  },
  {
   "cell_type": "markdown",
   "metadata": {},
   "source": [
    "The testing that is not in the generator mode returns the list of tuples with targets and outputs of all samples."
   ]
  },
  {
   "cell_type": "code",
   "execution_count": 26,
   "metadata": {},
   "outputs": [
    {
     "name": "stdout",
     "output_type": "stream",
     "text": [
      "[(0.0, 0.0), (1.0, 0.821661651134491), (1.0, 0.8146876692771912), (0.0, -0.025180313736200333)]\n"
     ]
    }
   ],
   "source": [
    "outputs = evaluator.test(generator=False)\n",
    "print(outputs)"
   ]
  },
  {
   "cell_type": "markdown",
   "metadata": {},
   "source": [
    "Outputs in this form can be convenient for additional analysis and metrics gathering."
   ]
  },
  {
   "cell_type": "code",
   "execution_count": 31,
   "metadata": {},
   "outputs": [
    {
     "name": "stdout",
     "output_type": "stream",
     "text": [
      "Max error 0.18531233072280884\n",
      "Explained variance score 0.9710181105485837\n"
     ]
    }
   ],
   "source": [
    "from sklearn.metrics import max_error, explained_variance_score\n",
    "\n",
    "np_outputs = np.array(outputs)\n",
    "\n",
    "print(\"Max error\", max_error(np_outputs[:, 0], np_outputs[:, 1]))\n",
    "print(\"Explained variance score\", explained_variance_score(np_outputs[:, 0], np_outputs[:, 1]))"
   ]
  }
 ],
 "metadata": {
  "kernelspec": {
   "display_name": "Python 3",
   "language": "python",
   "name": "python3"
  },
  "language_info": {
   "codemirror_mode": {
    "name": "ipython",
    "version": 3
   },
   "file_extension": ".py",
   "mimetype": "text/x-python",
   "name": "python",
   "nbconvert_exporter": "python",
   "pygments_lexer": "ipython3",
   "version": "3.8.5"
  }
 },
 "nbformat": 4,
 "nbformat_minor": 1
}
