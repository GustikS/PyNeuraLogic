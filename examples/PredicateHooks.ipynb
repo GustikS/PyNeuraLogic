{
 "cells": [
  {
   "cell_type": "markdown",
   "metadata": {
    "collapsed": true
   },
   "source": [
    "# NeuraLogic Hooks"
   ]
  },
  {
   "cell_type": "code",
   "execution_count": 1,
   "metadata": {},
   "outputs": [],
   "source": [
    "import numpy as np\n",
    "\n",
    "from neuralogic.core import Template, Backend, Atom, Var\n",
    "from neuralogic.core.constructs.predicate import Predicate\n",
    "from neuralogic.utils.data import Data, Dataset\n",
    "from neuralogic.core.settings import Settings, ErrorFunction, Optimizer\n",
    "from neuralogic.nn import get_evaluator\n",
    "\n",
    "from IPython.display import clear_output\n",
    "import matplotlib.pyplot as plt"
   ]
  },
  {
   "cell_type": "markdown",
   "metadata": {},
   "source": [
    "## Data preparation"
   ]
  },
  {
   "cell_type": "code",
   "execution_count": 2,
   "metadata": {},
   "outputs": [],
   "source": [
    "src = np.array([\n",
    "    1, 2, 2, 3, 3, 3, 4, 5, 6, 6, 6, 7, 7, 7, 7, 8, 8, 9, 10, 10, 10, 11,\n",
    "    12, 12, 13, 13, 13, 13, 16, 16, 17, 17, 19, 19, 21, 21, 25, 25, 27, 27,\n",
    "    27, 28, 29, 29, 30, 30, 31, 31, 31, 31, 32, 32, 32, 32, 32, 32, 32, 32, 32,\n",
    "    32, 32, 33, 33, 33, 33, 33, 33, 33, 33, 33, 33, 33, 33, 33, 33, 33, 33, 33\n",
    "])\n",
    "\n",
    "dst = np.array([\n",
    "    0, 0, 1, 0, 1, 2, 0, 0, 0, 4, 5, 0, 1, 2, 3, 0, 2, 2, 0, 4, 5,\n",
    "    0, 0, 3, 0, 1, 2, 3, 5, 6, 0, 1, 0, 1, 0, 1, 23, 24, 2, 23, 24, 2,\n",
    "    23, 26, 1, 8, 0, 24, 25, 28, 2, 8, 14, 15, 18, 20, 22, 23, 29, 30,\n",
    "    31, 8, 9, 13, 14, 15, 18, 19, 20, 22, 23, 26, 27, 28, 29, 30, 31, 32\n",
    "])\n",
    "\n",
    "u = np.concatenate([src, dst])\n",
    "v = np.concatenate([dst, src])\n",
    "indices = [[i] for i in range(34)]\n",
    "\n",
    "train_dataset = Dataset(data=[Data(x=np.ones((34,)), edge_index=[u, v], y=[[-1], [1]], y_mask=[[0], [33]])])\n",
    "test_dataset = Dataset(data=[Data(x=np.ones((34,)), edge_index=[u, v], y=indices, y_mask=indices)])"
   ]
  },
  {
   "cell_type": "code",
   "execution_count": 3,
   "metadata": {},
   "outputs": [],
   "source": [
    "settings = Settings(epochs=2, error_function=ErrorFunction.SQUARED_DIFF, optimizer=Optimizer.SGD)"
   ]
  },
  {
   "cell_type": "markdown",
   "metadata": {},
   "source": [
    "## Model preparation"
   ]
  },
  {
   "cell_type": "code",
   "execution_count": 4,
   "metadata": {},
   "outputs": [],
   "source": [
    "template = Template(settings=settings)\n",
    "\n",
    "with template.context():\n",
    "    template.add_rules([(Atom.node_feature_embed(i)[10, 1] <= Atom.node_feature(i)) for i in range(32)])\n",
    "\n",
    "    template.add_rule(Atom.gcn_1(Var.X)[10, 10] <= (Atom.node_feature_embed(Var.Y), Atom.edge(Var.X, Var.Y)))\n",
    "    template.add_rule(Atom.gcn_2(Var.X)[10, 10] <= (Atom.gcn_1(Var.Y), Atom.edge(Var.X, Var.Y)))\n",
    "    template.add_rule(Atom.predict(Var.X)[np.ones((1, 10))] <= (Atom.gcn_2(Var.X)))\n"
   ]
  },
  {
   "cell_type": "code",
   "execution_count": 5,
   "metadata": {},
   "outputs": [],
   "source": [
    "evaluator = get_evaluator(Backend.DYNET, template, settings)"
   ]
  },
  {
   "cell_type": "markdown",
   "metadata": {},
   "source": [
    "There are no hooks set up - training/testing will work with no side effects"
   ]
  },
  {
   "cell_type": "code",
   "execution_count": 6,
   "metadata": {},
   "outputs": [],
   "source": [
    "for _ in evaluator.train(train_dataset):\n",
    "    pass"
   ]
  },
  {
   "cell_type": "markdown",
   "metadata": {},
   "source": [
    "## Adding hooks"
   ]
  },
  {
   "cell_type": "markdown",
   "metadata": {},
   "source": [
    "### Hooks declaration\n",
    "\n",
    "Hooks are normal python functions with two parameters - `name` and `value`. `name` is the triggering name - which neuron triggered the hook and the `value` corresponds to the output of the neuron that triggered the hook."
   ]
  },
  {
   "cell_type": "code",
   "execution_count": 7,
   "metadata": {},
   "outputs": [],
   "source": [
    "def my_gcn2_hook(name, value):\n",
    "    print(\"GCN2 hook triggered by\", name)\n",
    "    print(\"GCN2 hook value\", \"\\n\", value)\n",
    "\n",
    "\n",
    "def my_gcn2_another_hook(name, value):\n",
    "    print(\"MY ANOTHER GCN2 HOOK\", \"\\n\", value)\n",
    "\n",
    "\n",
    "def my_predict_hook(name, value):\n",
    "    print(\"Predict hook triggered by\", name)\n",
    "    print(\"Predict hook value\", \"\\n\", value)"
   ]
  },
  {
   "cell_type": "markdown",
   "metadata": {},
   "source": [
    "### Attaching hooks"
   ]
  },
  {
   "cell_type": "markdown",
   "metadata": {},
   "source": [
    "Hooks can be attached and dettached to a predicate in a template in multiple ways. All following ways are valid and will have the same result."
   ]
  },
  {
   "cell_type": "code",
   "execution_count": 8,
   "metadata": {},
   "outputs": [],
   "source": [
    "template.add_hook(\"gcn_2/1\", my_gcn2_hook)"
   ]
  },
  {
   "cell_type": "code",
   "execution_count": 9,
   "metadata": {},
   "outputs": [],
   "source": [
    "with template.context():\n",
    "    template.add_hook(Predicate(\"gcn_2\", 1), my_gcn2_hook)"
   ]
  },
  {
   "cell_type": "code",
   "execution_count": 10,
   "metadata": {},
   "outputs": [],
   "source": [
    "with template.context():\n",
    "    template.add_hook(Atom.gcn_2 / 1, my_gcn2_hook)"
   ]
  },
  {
   "cell_type": "markdown",
   "metadata": {},
   "source": [
    "Dettaching hooks on a predicate can be done similary as attaching."
   ]
  },
  {
   "cell_type": "code",
   "execution_count": 11,
   "metadata": {},
   "outputs": [],
   "source": [
    "template.remove_hook(\"gcn_2/1\", my_gcn2_hook)"
   ]
  },
  {
   "cell_type": "code",
   "execution_count": 12,
   "metadata": {},
   "outputs": [],
   "source": [
    "with template.context():\n",
    "    template.remove_hook(Predicate(\"gcn_2\", 1), my_gcn2_hook)"
   ]
  },
  {
   "cell_type": "code",
   "execution_count": 13,
   "metadata": {},
   "outputs": [],
   "source": [
    "with template.context():\n",
    "    template.remove_hook(Atom.gcn_2 / 1, my_gcn2_hook)"
   ]
  },
  {
   "cell_type": "markdown",
   "metadata": {},
   "source": [
    "### Example\n",
    "\n",
    "Attach our hooks:"
   ]
  },
  {
   "cell_type": "code",
   "execution_count": 14,
   "metadata": {},
   "outputs": [],
   "source": [
    "with template.context():\n",
    "    template.add_hook(Atom.gcn_2 / 1, my_gcn2_hook)\n",
    "    template.add_hook(Atom.gcn_2 / 1, my_gcn2_another_hook)  # We can add multiple hooks to one predicate\n",
    "    template.add_hook(Atom.predict / 1, my_predict_hook)"
   ]
  },
  {
   "cell_type": "markdown",
   "metadata": {},
   "source": [
    "Forward propagation will now trigger hooks when the value for the hooked predicate is being calculated"
   ]
  },
  {
   "cell_type": "code",
   "execution_count": 15,
   "metadata": {},
   "outputs": [
    {
     "name": "stdout",
     "output_type": "stream",
     "text": [
      "MY ANOTHER GCN2 HOOK \n",
      " [[ 0.92542136]\n",
      " [-0.23213652]\n",
      " [-0.80845255]\n",
      " [-0.94556266]\n",
      " [-0.75960463]\n",
      " [ 0.32345179]\n",
      " [-0.89326364]\n",
      " [ 0.36810002]\n",
      " [ 0.73240924]\n",
      " [-0.50499958]]\n",
      "GCN2 hook triggered by WeightedAtomNeuron = gcn_2(0)\n",
      "GCN2 hook value \n",
      " [[ 0.92542136]\n",
      " [-0.23213652]\n",
      " [-0.80845255]\n",
      " [-0.94556266]\n",
      " [-0.75960463]\n",
      " [ 0.32345179]\n",
      " [-0.89326364]\n",
      " [ 0.36810002]\n",
      " [ 0.73240924]\n",
      " [-0.50499958]]\n",
      "Predict hook triggered by WeightedAtomNeuron = predict(0)\n",
      "Predict hook value \n",
      " [[0.11435898]]\n",
      "MY ANOTHER GCN2 HOOK \n",
      " [[ 0.92490083]\n",
      " [-0.19250695]\n",
      " [-0.73887163]\n",
      " [-0.93078119]\n",
      " [-0.76095665]\n",
      " [ 0.31672907]\n",
      " [-0.87448519]\n",
      " [ 0.31192189]\n",
      " [ 0.72833532]\n",
      " [-0.46697885]]\n",
      "GCN2 hook triggered by WeightedAtomNeuron = gcn_2(33)\n",
      "GCN2 hook value \n",
      " [[ 0.92490083]\n",
      " [-0.19250695]\n",
      " [-0.73887163]\n",
      " [-0.93078119]\n",
      " [-0.76095665]\n",
      " [ 0.31672907]\n",
      " [-0.87448519]\n",
      " [ 0.31192189]\n",
      " [ 0.72833532]\n",
      " [-0.46697885]]\n",
      "Predict hook triggered by WeightedAtomNeuron = predict(33)\n",
      "Predict hook value \n",
      " [[0.11100036]]\n",
      "\n",
      "Epoch trained\n",
      "\n",
      "MY ANOTHER GCN2 HOOK \n",
      " [[ 0.92220247]\n",
      " [-0.23434074]\n",
      " [-0.80694342]\n",
      " [-0.94487023]\n",
      " [-0.76534778]\n",
      " [ 0.32634169]\n",
      " [-0.89463651]\n",
      " [ 0.37826389]\n",
      " [ 0.73743361]\n",
      " [-0.50295419]]\n",
      "GCN2 hook triggered by WeightedAtomNeuron = gcn_2(0)\n",
      "GCN2 hook value \n",
      " [[ 0.92220247]\n",
      " [-0.23434074]\n",
      " [-0.80694342]\n",
      " [-0.94487023]\n",
      " [-0.76534778]\n",
      " [ 0.32634169]\n",
      " [-0.89463651]\n",
      " [ 0.37826389]\n",
      " [ 0.73743361]\n",
      " [-0.50295419]]\n",
      "Predict hook triggered by WeightedAtomNeuron = predict(0)\n",
      "Predict hook value \n",
      " [[0.1062066]]\n",
      "MY ANOTHER GCN2 HOOK \n",
      " [[ 0.92142135]\n",
      " [-0.19744557]\n",
      " [-0.73536903]\n",
      " [-0.93023622]\n",
      " [-0.76616859]\n",
      " [ 0.3059904 ]\n",
      " [-0.876275  ]\n",
      " [ 0.31705654]\n",
      " [ 0.7258389 ]\n",
      " [-0.46492305]]\n",
      "GCN2 hook triggered by WeightedAtomNeuron = gcn_2(33)\n",
      "GCN2 hook value \n",
      " [[ 0.92142135]\n",
      " [-0.19744557]\n",
      " [-0.73536903]\n",
      " [-0.93023622]\n",
      " [-0.76616859]\n",
      " [ 0.3059904 ]\n",
      " [-0.876275  ]\n",
      " [ 0.31705654]\n",
      " [ 0.7258389 ]\n",
      " [-0.46492305]]\n",
      "Predict hook triggered by WeightedAtomNeuron = predict(33)\n",
      "Predict hook value \n",
      " [[0.11819272]]\n",
      "\n",
      "Epoch trained\n",
      "\n"
     ]
    }
   ],
   "source": [
    "for _ in evaluator.train(train_dataset):\n",
    "    print(\"\\nEpoch trained\\n\")"
   ]
  }
 ],
 "metadata": {
  "kernelspec": {
   "display_name": "Python 3",
   "language": "python",
   "name": "python3"
  },
  "language_info": {
   "codemirror_mode": {
    "name": "ipython",
    "version": 3
   },
   "file_extension": ".py",
   "mimetype": "text/x-python",
   "name": "python",
   "nbconvert_exporter": "python",
   "pygments_lexer": "ipython3",
   "version": "3.8.5"
  }
 },
 "nbformat": 4,
 "nbformat_minor": 1
}
