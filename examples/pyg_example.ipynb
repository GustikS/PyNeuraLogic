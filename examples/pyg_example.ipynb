{
 "cells": [
  {
   "cell_type": "markdown",
   "metadata": {},
   "source": [
    "# PyG vs NeuraLogic TemplateList\n",
    "\n",
    "\n",
    "Slightly modified https://github.com/rusty1s/pytorch_geometric/blob/master/examples/gcn.py\n",
    "- Replaced log softmax with sigmoid etc.\n"
   ]
  },
  {
   "cell_type": "code",
   "execution_count": 1,
   "metadata": {},
   "outputs": [],
   "source": [
    "import os.path as osp\n",
    "\n",
    "import torch\n",
    "import torch.nn.functional as F\n",
    "import torch_geometric.transforms as T\n",
    "import torch_geometric\n",
    "from torch_geometric.datasets import Planetoid\n",
    "\n",
    "from neuralogic.utils.templates import TemplateList, GCNConv\n",
    "from neuralogic.core import Template, Backend, Activation"
   ]
  },
  {
   "cell_type": "code",
   "execution_count": 2,
   "metadata": {},
   "outputs": [],
   "source": [
    "dataset = 'Cora'\n",
    "\n",
    "path = osp.join('..', 'data', dataset)\n",
    "dataset = Planetoid(path, dataset, transform=T.NormalizeFeatures())\n",
    "\n",
    "data = dataset[0]"
   ]
  },
  {
   "cell_type": "code",
   "execution_count": 3,
   "metadata": {},
   "outputs": [],
   "source": [
    "def train(model, optimimzer, epochs):\n",
    "    for epoch in range(1, epochs):\n",
    "        optimizer.zero_grad()\n",
    "        F.nll_loss(model(data.x, data.edge_index)[data.train_mask], data.y[data.train_mask]).backward()\n",
    "        optimizer.step()\n",
    "\n",
    "\n",
    "@torch.no_grad()\n",
    "def test(model):\n",
    "    model.eval()\n",
    "    logits, accs = model(data.x, data.edge_index), []\n",
    "    for _, mask in data('train_mask', 'val_mask', 'test_mask'):\n",
    "        pred = logits[mask].max(1)[1]\n",
    "        acc = pred.eq(data.y[mask]).sum().item() / mask.sum().item()\n",
    "        accs.append(acc)\n",
    "    return accs"
   ]
  },
  {
   "cell_type": "markdown",
   "metadata": {},
   "source": [
    "## PyTorch Geometric"
   ]
  },
  {
   "cell_type": "code",
   "execution_count": 4,
   "metadata": {},
   "outputs": [],
   "source": [
    "class TorchNet(torch.nn.Module):\n",
    "    def __init__(self):\n",
    "        super(TorchNet, self).__init__()\n",
    "        self.conv1 = torch_geometric.nn.GCNConv(dataset.num_features, 16, normalize=False, cached=False, bias=False)\n",
    "        self.conv2 = torch_geometric.nn.GCNConv(16, dataset.num_classes, normalize=False, cached=False, bias=False)\n",
    "\n",
    "    def forward(self, x, edge_index):\n",
    "        x = torch.relu(self.conv1(x, edge_index))\n",
    "        x = self.conv2(x, edge_index)\n",
    "        \n",
    "        return torch.sigmoid(x)"
   ]
  },
  {
   "cell_type": "code",
   "execution_count": 5,
   "metadata": {},
   "outputs": [],
   "source": [
    "torch.manual_seed(123)\n",
    "\n",
    "model = TorchNet()\n",
    "\n",
    "optimizer = torch.optim.Adam([\n",
    "    dict(params=model.conv1.parameters()),\n",
    "    dict(params=model.conv2.parameters())\n",
    "], lr=0.01)\n",
    "\n",
    "train(model, optimizer, 100)"
   ]
  },
  {
   "cell_type": "code",
   "execution_count": 6,
   "metadata": {},
   "outputs": [
    {
     "name": "stdout",
     "output_type": "stream",
     "text": [
      "[0.20714285714285716, 0.108, 0.109]\n"
     ]
    }
   ],
   "source": [
    "test_results = test(model)\n",
    "\n",
    "print(test_results)  # train_acc, best_val_acc, test_acc"
   ]
  },
  {
   "cell_type": "code",
   "execution_count": 7,
   "metadata": {},
   "outputs": [
    {
     "name": "stdout",
     "output_type": "stream",
     "text": [
      "TorchNet(\n",
      "  (conv1): GCNConv(1433, 16)\n",
      "  (conv2): GCNConv(16, 7)\n",
      ")\n"
     ]
    }
   ],
   "source": [
    "print(model)"
   ]
  },
  {
   "cell_type": "markdown",
   "metadata": {},
   "source": [
    "## NeuraLogic"
   ]
  },
  {
   "cell_type": "code",
   "execution_count": 8,
   "metadata": {},
   "outputs": [],
   "source": [
    "torch.manual_seed(123)\n",
    "\n",
    "template_list = TemplateList([\n",
    "    GCNConv(in_channels=dataset.num_features, out_channels=16, activation=Activation.RELU),\n",
    "    GCNConv(in_channels=16, out_channels=dataset.num_classes, activation=Activation.SIGMOID),\n",
    "])\n",
    "\n",
    "template = Template(module_list=template_list)\n",
    "model = template.build(Backend.PYG, native_backend_models=True)\n",
    "\n",
    "optimizer = torch.optim.Adam([dict(params=model.parameters())], lr=0.01)\n",
    "\n",
    "train(model, optimizer, 100)"
   ]
  },
  {
   "cell_type": "code",
   "execution_count": 9,
   "metadata": {},
   "outputs": [
    {
     "name": "stdout",
     "output_type": "stream",
     "text": [
      "[0.20714285714285716, 0.108, 0.109]\n"
     ]
    }
   ],
   "source": [
    "test_results = test(model)\n",
    "\n",
    "print(test_results)  # train_acc, best_val_acc, test_acc"
   ]
  },
  {
   "cell_type": "code",
   "execution_count": 10,
   "metadata": {},
   "outputs": [
    {
     "name": "stdout",
     "output_type": "stream",
     "text": [
      "NeuraLogic(\n",
      "  (module_list): ModuleList(\n",
      "    (0): GCNConv(1433, 16)\n",
      "    (1): GCNConv(16, 7)\n",
      "  )\n",
      ")\n"
     ]
    }
   ],
   "source": [
    "print(model)"
   ]
  }
 ],
 "metadata": {
  "kernelspec": {
   "display_name": "Python 3",
   "language": "python",
   "name": "python3"
  },
  "language_info": {
   "codemirror_mode": {
    "name": "ipython",
    "version": 3
   },
   "file_extension": ".py",
   "mimetype": "text/x-python",
   "name": "python",
   "nbconvert_exporter": "python",
   "pygments_lexer": "ipython3",
   "version": "3.8.5"
  }
 },
 "nbformat": 4,
 "nbformat_minor": 1
}
