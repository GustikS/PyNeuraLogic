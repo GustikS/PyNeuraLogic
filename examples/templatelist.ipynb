{
 "cells": [
  {
   "cell_type": "code",
   "execution_count": 1,
   "metadata": {},
   "outputs": [],
   "source": [
    "from neuralogic.utils.templates import GINConv, SAGEConv, GCNConv, Pooling, TemplateList\n",
    "from neuralogic.core import Template\n",
    "from neuralogic.core.settings import Activation\n"
   ]
  },
  {
   "cell_type": "markdown",
   "metadata": {},
   "source": [
    "## GCN"
   ]
  },
  {
   "cell_type": "code",
   "execution_count": 2,
   "metadata": {},
   "outputs": [
    {
     "name": "stdout",
     "output_type": "stream",
     "text": [
      "{10, 51} node_features(X) :- feature(X, Y). [activation=identity]\n",
      "node_features/1 [activation=identity]\n",
      "{10, 10} l1_gcn(X) :- node_features(Y), edge(X, Y). [activation=identity, aggregation=sum]\n",
      "l1_gcn/1 [activation=identity]\n",
      "{1, 10} predict :- l1_gcn(X). [activation=identity, aggregation=avg]\n",
      "predict/0 [activation=sigmoid]\n"
     ]
    }
   ],
   "source": [
    "template_list = TemplateList([\n",
    "    GCNConv(in_channels=10),\n",
    "    Pooling(name=\"predict\", in_channels=10),\n",
    "], num_features=51)\n",
    "\n",
    "template = Template(module_list=template_list)\n",
    "\n",
    "print(template)"
   ]
  },
  {
   "cell_type": "code",
   "execution_count": 3,
   "metadata": {},
   "outputs": [
    {
     "name": "stdout",
     "output_type": "stream",
     "text": [
      "{10, 51} node_features(X) :- feature(X, Y). [activation=identity]\n",
      "node_features/1 [activation=identity]\n",
      "{10, 10} l1_gcn(X) :- node_features(Y), edge(X, Y). [activation=identity, aggregation=sum]\n",
      "l1_gcn/1 [activation=identity]\n",
      "{10, 10} l2_gcn(X) :- l1_gcn(Y), edge(X, Y). [activation=identity, aggregation=sum]\n",
      "l2_gcn/1 [activation=identity]\n",
      "{10, 10} l3_gcn(X) :- l2_gcn(Y), edge(X, Y). [activation=identity, aggregation=sum]\n",
      "l3_gcn/1 [activation=identity]\n",
      "{1, 10} another_predict :- l3_gcn(X). [activation=identity, aggregation=avg]\n",
      "another_predict/0 [activation=sigmoid]\n"
     ]
    }
   ],
   "source": [
    "template_list = TemplateList([\n",
    "    GCNConv(in_channels=10),\n",
    "    GCNConv(in_channels=10),\n",
    "    GCNConv(in_channels=10),\n",
    "    Pooling(name=\"another_predict\", in_channels=10),\n",
    "], num_features=51)\n",
    "\n",
    "template = Template(module_list=template_list)\n",
    "\n",
    "print(template)"
   ]
  },
  {
   "cell_type": "code",
   "execution_count": 4,
   "metadata": {},
   "outputs": [
    {
     "name": "stdout",
     "output_type": "stream",
     "text": [
      "{10, 51} node_features(X) :- feature(X, Y). [activation=identity]\n",
      "node_features/1 [activation=identity]\n",
      "{10, 10} l1_gcn(X) :- node_features(Y), edge(X, Y). [activation=identity, aggregation=sum]\n",
      "l1_gcn/1 [activation=identity]\n",
      "{10, 10} l2_gcn(X) :- l1_gcn(Y), edge(X, Y). [activation=identity, aggregation=sum]\n",
      "l2_gcn/1 [activation=identity]\n",
      "{10, 10} l3_gcn(X) :- l2_gcn(Y), edge(X, Y). [activation=identity, aggregation=sum]\n",
      "l3_gcn/1 [activation=identity]\n",
      "{10, 10} l4_gcn(X) :- l3_gcn(Y), edge(X, Y). [activation=identity, aggregation=sum]\n",
      "l4_gcn/1 [activation=identity]\n",
      "{1, 10} l5_gcn(X) :- l4_gcn(Y), edge(X, Y). [activation=identity, aggregation=sum]\n",
      "l5_gcn/1 [activation=identity]\n"
     ]
    }
   ],
   "source": [
    "template_list = TemplateList([GCNConv(in_channels=10)] * 5, num_features=51)\n",
    "\n",
    "template = Template(module_list=template_list)\n",
    "\n",
    "print(template)"
   ]
  },
  {
   "cell_type": "markdown",
   "metadata": {},
   "source": [
    "### Different names"
   ]
  },
  {
   "cell_type": "code",
   "execution_count": 5,
   "metadata": {},
   "outputs": [
    {
     "name": "stdout",
     "output_type": "stream",
     "text": [
      "{10, 51} node_features(X) :- feature(X, Y). [activation=identity]\n",
      "node_features/1 [activation=identity]\n",
      "{10, 10} l1_gcn(X) :- node_features(Y), edge(X, Y). [activation=identity, aggregation=sum]\n",
      "l1_gcn/1 [activation=identity]\n",
      "{10, 10} second_layer(X) :- l1_gcn(Y), edge(X, Y). [activation=identity, aggregation=sum]\n",
      "second_layer/1 [activation=identity]\n",
      "{10, 10} l3_gcn(X) :- second_layer(Y), edge(X, Y). [activation=identity, aggregation=sum]\n",
      "l3_gcn/1 [activation=identity]\n",
      "{1, 10} predict :- l3_gcn(X). [activation=identity, aggregation=avg]\n",
      "predict/0 [activation=sigmoid]\n"
     ]
    }
   ],
   "source": [
    "template_list = TemplateList([\n",
    "    GCNConv(in_channels=10),\n",
    "    GCNConv(name=\"second_layer\", in_channels=10),\n",
    "    GCNConv(in_channels=10),\n",
    "    Pooling(name=\"predict\", in_channels=10),\n",
    "], num_features=51)\n",
    "\n",
    "template = Template(module_list=template_list)\n",
    "\n",
    "print(template)"
   ]
  },
  {
   "cell_type": "markdown",
   "metadata": {},
   "source": [
    "### Pooling over multiple layers"
   ]
  },
  {
   "cell_type": "code",
   "execution_count": 6,
   "metadata": {},
   "outputs": [
    {
     "name": "stdout",
     "output_type": "stream",
     "text": [
      "{10, 51} node_features(X) :- feature(X, Y). [activation=identity]\n",
      "node_features/1 [activation=identity]\n",
      "{10, 10} l1_gcn(X) :- node_features(Y), edge(X, Y). [activation=identity, aggregation=sum]\n",
      "l1_gcn/1 [activation=identity]\n",
      "{10, 10} second_layer(X) :- l1_gcn(Y), edge(X, Y). [activation=identity, aggregation=sum]\n",
      "second_layer/1 [activation=identity]\n",
      "{10, 10} l3_gcn(X) :- second_layer(Y), edge(X, Y). [activation=identity, aggregation=sum]\n",
      "l3_gcn/1 [activation=identity]\n",
      "{1, 10} predict :- l3_gcn(X). [activation=identity, aggregation=avg]\n",
      "{1, 10} predict :- second_layer(X). [activation=identity, aggregation=avg]\n",
      "predict/0 [activation=sigmoid]\n"
     ]
    }
   ],
   "source": [
    "template_list = TemplateList([\n",
    "    GCNConv(in_channels=10),\n",
    "    GCNConv(name=\"second_layer\", in_channels=10),\n",
    "    GCNConv(in_channels=10),\n",
    "    Pooling(name=\"predict\", layers=[-1, -2], in_channels=10),\n",
    "], num_features=51)\n",
    "\n",
    "template = Template(module_list=template_list)\n",
    "\n",
    "print(template)"
   ]
  },
  {
   "cell_type": "code",
   "execution_count": 7,
   "metadata": {},
   "outputs": [
    {
     "name": "stdout",
     "output_type": "stream",
     "text": [
      "{10, 51} node_features(X) :- feature(X, Y). [activation=identity]\n",
      "node_features/1 [activation=identity]\n",
      "{10, 10} l1_gcn(X) :- node_features(Y), edge(X, Y). [activation=identity, aggregation=sum]\n",
      "l1_gcn/1 [activation=identity]\n",
      "{10, 10} second_layer(X) :- l1_gcn(Y), edge(X, Y). [activation=identity, aggregation=sum]\n",
      "second_layer/1 [activation=identity]\n",
      "{10, 10} l3_gcn(X) :- second_layer(Y), edge(X, Y). [activation=identity, aggregation=sum]\n",
      "l3_gcn/1 [activation=identity]\n",
      "{1, 10} predict :- l1_gcn(X). [activation=identity, aggregation=avg]\n",
      "{1, 10} predict :- second_layer(X). [activation=identity, aggregation=avg]\n",
      "{1, 10} predict :- l3_gcn(X). [activation=identity, aggregation=avg]\n",
      "predict/0 [activation=sigmoid]\n"
     ]
    }
   ],
   "source": [
    "template_list = TemplateList([\n",
    "    GCNConv(in_channels=10),\n",
    "    GCNConv(name=\"second_layer\", in_channels=10),\n",
    "    GCNConv(in_channels=10),\n",
    "    Pooling(name=\"predict\", layers=[0, 1, 2], in_channels=10),\n",
    "], num_features=51)\n",
    "\n",
    "template = Template(module_list=template_list)\n",
    "\n",
    "print(template)"
   ]
  },
  {
   "cell_type": "markdown",
   "metadata": {},
   "source": [
    "# GIN"
   ]
  },
  {
   "cell_type": "code",
   "execution_count": 8,
   "metadata": {},
   "outputs": [
    {
     "name": "stdout",
     "output_type": "stream",
     "text": [
      "{10, 2} node_features(X) :- feature(X, Y). [activation=identity]\n",
      "node_features/1 [activation=identity]\n",
      "l1_gin_embed(X) :- node_features(Y), edge(X, Y). [activation=identity, aggregation=sum]\n",
      "l1_gin_embed(X) :- node_features(X). [activation=identity]\n",
      "l1_gin_embed/1 [activation=identity]\n",
      "{10, 10} l1_gin(X) :- {1, 10} l1_gin_embed(X). [activation=relu]\n",
      "l1_gin/1 [activation=relu]\n"
     ]
    }
   ],
   "source": [
    "template_list = TemplateList([GINConv(in_channels=10)], num_features=2)\n",
    "\n",
    "template = Template(module_list=template_list)\n",
    "\n",
    "print(template)"
   ]
  },
  {
   "cell_type": "markdown",
   "metadata": {},
   "source": [
    "# GraphSAGE"
   ]
  },
  {
   "cell_type": "code",
   "execution_count": 9,
   "metadata": {},
   "outputs": [
    {
     "name": "stdout",
     "output_type": "stream",
     "text": [
      "{10, 5} node_features(X) :- feature(X, Y). [activation=identity]\n",
      "node_features/1 [activation=identity]\n",
      "{1, 10} l1_gsage(X) :- node_features(Y), edge(X, Y). [activation=identity, aggregation=avg]\n",
      "{1, 1} l1_gsage(X) :- node_features(X). [activation=identity]\n",
      "l1_gsage/1 [activation=identity]\n"
     ]
    }
   ],
   "source": [
    "template_list = TemplateList([SAGEConv(in_channels=10)], num_features=5)\n",
    "\n",
    "template = Template(module_list=template_list)\n",
    "\n",
    "print(template)"
   ]
  },
  {
   "cell_type": "markdown",
   "metadata": {},
   "source": [
    "# Mixing modules"
   ]
  },
  {
   "cell_type": "code",
   "execution_count": 10,
   "metadata": {},
   "outputs": [
    {
     "name": "stdout",
     "output_type": "stream",
     "text": [
      "{10, 51} node_features(X) :- feature(X, Y). [activation=identity]\n",
      "node_features/1 [activation=identity]\n",
      "{10, 10} l1_gsage(X) :- node_features(Y), edge(X, Y). [activation=identity, aggregation=avg]\n",
      "{10, 10} l1_gsage(X) :- node_features(X). [activation=identity]\n",
      "l1_gsage/1 [activation=identity]\n",
      "l2_gin_embed(X) :- l1_gsage(Y), edge(X, Y). [activation=identity, aggregation=sum]\n",
      "l2_gin_embed(X) :- l1_gsage(X). [activation=identity]\n",
      "l2_gin_embed/1 [activation=identity]\n",
      "{10, 10} l2_gin(X) :- {10, 10} l2_gin_embed(X). [activation=relu]\n",
      "l2_gin/1 [activation=relu]\n",
      "{1, 10} l3_gcn(X) :- l2_gin(Y), edge(X, Y). [activation=identity, aggregation=sum]\n",
      "l3_gcn/1 [activation=identity]\n"
     ]
    }
   ],
   "source": [
    "template_list = TemplateList([\n",
    "    SAGEConv(in_channels=10),\n",
    "    GINConv(in_channels=10),\n",
    "    GCNConv(in_channels=10),\n",
    "], num_features=51)\n",
    "\n",
    "template = Template(module_list=template_list)\n",
    "\n",
    "print(template)"
   ]
  },
  {
   "cell_type": "markdown",
   "metadata": {},
   "source": [
    "# Dataset data support"
   ]
  },
  {
   "cell_type": "code",
   "execution_count": 11,
   "metadata": {},
   "outputs": [
    {
     "name": "stdout",
     "output_type": "stream",
     "text": [
      "Query: 1.0 predict.\n",
      "Creates python rule/atom objects <class 'neuralogic.core.constructs.atom.WeightedAtom'>\n",
      "\n",
      "Example\n",
      "edge(0, 1).\n",
      "edge(1, 2).\n",
      "edge(2, 3).\n",
      "1.0 feature(0, 0).\n",
      "2.0 feature(0, 1).\n",
      "3.0 feature(0, 2).\n",
      "4.0 feature(1, 0).\n",
      "5.0 feature(1, 1).\n",
      "6.0 feature(1, 2).\n",
      "7.0 feature(2, 0).\n",
      "8.0 feature(2, 1).\n",
      "9.0 feature(2, 2).\n"
     ]
    }
   ],
   "source": [
    "from neuralogic.utils.data import Data, Dataset\n",
    "\n",
    "# = x\n",
    "node_features = [\n",
    "    [1.0, 2.0, 3.0],\n",
    "    [4.0, 5.0, 6.0],\n",
    "    [7.0, 8.0, 9.0]\n",
    "]\n",
    "\n",
    "\n",
    "# tuples of edges specified by indices of nodes\n",
    "edge_index = [\n",
    "    (0, 1),\n",
    "    (1, 2),\n",
    "    (2, 3),\n",
    "]\n",
    "\n",
    "# = y\n",
    "target = 1.0\n",
    "\n",
    "data = Data(x=node_features, edge_index=edge_index, y=target)\n",
    "dataset = Dataset(data=data)\n",
    "\n",
    "\n",
    "# hidden from the user (inside of `Template`)\n",
    "query, example = template_list.to_inputs(template, node_features, edge_index, target)\n",
    "\n",
    "\n",
    "# user would use one of\n",
    "# template.build_dataset(dataset)\n",
    "# evaluator.train(dataset)\n",
    "# evaluator.test(dataset)\n",
    "# evaluator.set_dataset(dataset)\n",
    "\n",
    "print(\"Query:\", query)\n",
    "print(\"Creates python rule/atom objects\", type(query))\n",
    "\n",
    "print(\"\\nExample\")\n",
    "for e in example:\n",
    "    print(str(e))\n"
   ]
  },
  {
   "cell_type": "markdown",
   "metadata": {},
   "source": [
    "# Using torch directly"
   ]
  },
  {
   "cell_type": "markdown",
   "metadata": {},
   "source": [
    "### GIN https://github.com/GustikS/GNNwLRNNs/blob/master/templates/gin.txt"
   ]
  },
  {
   "cell_type": "code",
   "execution_count": 12,
   "metadata": {},
   "outputs": [
    {
     "name": "stdout",
     "output_type": "stream",
     "text": [
      "{10, 51} node_features(X) :- feature(X, Y). [activation=identity]\n",
      "node_features/1 [activation=identity]\n",
      "l1_gin_embed(X) :- node_features(Y), edge(X, Y). [activation=identity, aggregation=sum]\n",
      "l1_gin_embed(X) :- node_features(X). [activation=identity]\n",
      "l1_gin_embed/1 [activation=identity]\n",
      "{10, 10} l1_gin(X) :- {10, 10} l1_gin_embed(X). [activation=relu]\n",
      "l1_gin/1 [activation=relu]\n",
      "l2_gin_embed(X) :- l1_gin(Y), edge(X, Y). [activation=identity, aggregation=sum]\n",
      "l2_gin_embed(X) :- l1_gin(X). [activation=identity]\n",
      "l2_gin_embed/1 [activation=identity]\n",
      "{10, 10} l2_gin(X) :- {10, 10} l2_gin_embed(X). [activation=relu]\n",
      "l2_gin/1 [activation=relu]\n",
      "l3_gin_embed(X) :- l2_gin(Y), edge(X, Y). [activation=identity, aggregation=sum]\n",
      "l3_gin_embed(X) :- l2_gin(X). [activation=identity]\n",
      "l3_gin_embed/1 [activation=identity]\n",
      "{10, 10} l3_gin(X) :- {10, 10} l3_gin_embed(X). [activation=relu]\n",
      "l3_gin/1 [activation=relu]\n",
      "l4_gin_embed(X) :- l3_gin(Y), edge(X, Y). [activation=identity, aggregation=sum]\n",
      "l4_gin_embed(X) :- l3_gin(X). [activation=identity]\n",
      "l4_gin_embed/1 [activation=identity]\n",
      "{10, 10} l4_gin(X) :- {10, 10} l4_gin_embed(X). [activation=relu]\n",
      "l4_gin/1 [activation=relu]\n",
      "l5_gin_embed(X) :- l4_gin(Y), edge(X, Y). [activation=identity, aggregation=sum]\n",
      "l5_gin_embed(X) :- l4_gin(X). [activation=identity]\n",
      "l5_gin_embed/1 [activation=identity]\n",
      "{10, 10} l5_gin(X) :- {10, 10} l5_gin_embed(X). [activation=relu]\n",
      "l5_gin/1 [activation=relu]\n",
      "{1, 10} predict :- l1_gin(X). [activation=identity, aggregation=avg]\n",
      "{1, 10} predict :- l2_gin(X). [activation=identity, aggregation=avg]\n",
      "{1, 10} predict :- l3_gin(X). [activation=identity, aggregation=avg]\n",
      "{1, 10} predict :- l4_gin(X). [activation=identity, aggregation=avg]\n",
      "{1, 10} predict :- l5_gin(X). [activation=identity, aggregation=avg]\n",
      "predict/0 [activation=sigmoid]\n"
     ]
    }
   ],
   "source": [
    "module_list = TemplateList(\n",
    "    [\n",
    "        GINConv(in_channels=10),\n",
    "        GINConv(in_channels=10),\n",
    "        GINConv(in_channels=10),\n",
    "        GINConv(in_channels=10),\n",
    "        GINConv(in_channels=10),\n",
    "        Pooling(name=\"predict\", layers=[0, 1, 2, 3, 4], in_channels=10),\n",
    "    ],\n",
    "    num_features=51,\n",
    ")\n",
    "\n",
    "template = Template(module_list=module_list)\n",
    "\n",
    "print(template)"
   ]
  },
  {
   "cell_type": "code",
   "execution_count": 13,
   "metadata": {},
   "outputs": [],
   "source": [
    "from neuralogic.core import Backend\n",
    "\n",
    "model = template.build(backend=Backend.PYG, native_backend_models=True)\n"
   ]
  },
  {
   "cell_type": "code",
   "execution_count": 14,
   "metadata": {},
   "outputs": [
    {
     "name": "stdout",
     "output_type": "stream",
     "text": [
      "GINConv(nn=Sequential(\n",
      "  (0): Linear(in_features=51, out_features=10, bias=True)\n",
      "  (1): ReLU()\n",
      "  (2): Linear(in_features=10, out_features=10, bias=True)\n",
      "))\n",
      "GINConv(nn=Sequential(\n",
      "  (0): Linear(in_features=10, out_features=10, bias=True)\n",
      "  (1): ReLU()\n",
      "  (2): Linear(in_features=10, out_features=10, bias=True)\n",
      "))\n",
      "GINConv(nn=Sequential(\n",
      "  (0): Linear(in_features=10, out_features=10, bias=True)\n",
      "  (1): ReLU()\n",
      "  (2): Linear(in_features=10, out_features=10, bias=True)\n",
      "))\n",
      "GINConv(nn=Sequential(\n",
      "  (0): Linear(in_features=10, out_features=10, bias=True)\n",
      "  (1): ReLU()\n",
      "  (2): Linear(in_features=10, out_features=10, bias=True)\n",
      "))\n",
      "GINConv(nn=Sequential(\n",
      "  (0): Linear(in_features=10, out_features=10, bias=True)\n",
      "  (1): ReLU()\n",
      "  (2): Linear(in_features=10, out_features=10, bias=True)\n",
      "))\n",
      "Linear(in_features=10, out_features=1, bias=False)\n",
      "Linear(in_features=10, out_features=1, bias=False)\n",
      "Linear(in_features=10, out_features=1, bias=False)\n",
      "Linear(in_features=10, out_features=1, bias=False)\n",
      "Linear(in_features=10, out_features=1, bias=False)\n"
     ]
    }
   ],
   "source": [
    "for e in model.modules:\n",
    "    print(e)"
   ]
  },
  {
   "cell_type": "code",
   "execution_count": 15,
   "metadata": {},
   "outputs": [
    {
     "name": "stdout",
     "output_type": "stream",
     "text": [
      "<function NeuraLogic.__init__.<locals>.<lambda> at 0x7f2d317ae790>\n",
      "<function NeuraLogic.__init__.<locals>.<lambda> at 0x7f2cf492eca0>\n",
      "<function NeuraLogic.__init__.<locals>.<lambda> at 0x7f2c8fbd2ee0>\n",
      "<function NeuraLogic.__init__.<locals>.<lambda> at 0x7f2c8fbd2f70>\n",
      "<function NeuraLogic.__init__.<locals>.<lambda> at 0x7f2c8fce3700>\n",
      "<function NeuraLogic.__init__.<locals>._pooling at 0x7f2c8fd208b0>\n"
     ]
    }
   ],
   "source": [
    "for e in model.evaluations:\n",
    "    print(e)"
   ]
  },
  {
   "cell_type": "markdown",
   "metadata": {},
   "source": [
    "### GCN https://github.com/GustikS/GNNwLRNNs/blob/master/templates/gcn.txt"
   ]
  },
  {
   "cell_type": "code",
   "execution_count": 16,
   "metadata": {},
   "outputs": [
    {
     "name": "stdout",
     "output_type": "stream",
     "text": [
      "{10, 51} node_features(X) :- feature(X, Y). [activation=identity]\n",
      "node_features/1 [activation=identity]\n",
      "{10, 10} l1_gcn(X) :- node_features(Y), edge(X, Y). [activation=identity, aggregation=sum]\n",
      "l1_gcn/1 [activation=relu]\n",
      "{10, 10} l2_gcn(X) :- l1_gcn(Y), edge(X, Y). [activation=identity, aggregation=sum]\n",
      "l2_gcn/1 [activation=identity]\n",
      "{1, 10} predict :- l2_gcn(X). [activation=identity, aggregation=avg]\n",
      "predict/0 [activation=sigmoid]\n"
     ]
    }
   ],
   "source": [
    "module_list = TemplateList(\n",
    "    [\n",
    "        GCNConv(in_channels=10, activation=Activation.RELU),\n",
    "        GCNConv(in_channels=10),\n",
    "        Pooling(name=\"predict\", in_channels=10),\n",
    "    ],\n",
    "    num_features=51,\n",
    ")\n",
    "\n",
    "template = Template(module_list=module_list)\n",
    "\n",
    "print(template)"
   ]
  },
  {
   "cell_type": "code",
   "execution_count": 17,
   "metadata": {},
   "outputs": [],
   "source": [
    "from neuralogic.core import Backend\n",
    "\n",
    "model = template.build(backend=Backend.PYG, native_backend_models=True)\n"
   ]
  },
  {
   "cell_type": "code",
   "execution_count": 18,
   "metadata": {},
   "outputs": [
    {
     "name": "stdout",
     "output_type": "stream",
     "text": [
      "GCNConv(51, 10)\n",
      "GCNConv(10, 10)\n",
      "Linear(in_features=10, out_features=1, bias=False)\n"
     ]
    }
   ],
   "source": [
    "for e in model.modules:\n",
    "    print(e)"
   ]
  },
  {
   "cell_type": "code",
   "execution_count": 19,
   "metadata": {
    "scrolled": true
   },
   "outputs": [
    {
     "name": "stdout",
     "output_type": "stream",
     "text": [
      "<function NeuraLogic.__init__.<locals>.<lambda> at 0x7f2d317dc820>\n",
      "<function NeuraLogic.__init__.<locals>.<lambda> at 0x7f2c8fbfaca0>\n",
      "<function NeuraLogic.__init__.<locals>._pooling at 0x7f2c8fbfad30>\n"
     ]
    }
   ],
   "source": [
    "for e in model.evaluations:\n",
    "    print(e)"
   ]
  },
  {
   "cell_type": "markdown",
   "metadata": {},
   "source": [
    "### SAGEConv https://github.com/GustikS/GNNwLRNNs/blob/master/templates/gsage.txt"
   ]
  },
  {
   "cell_type": "code",
   "execution_count": 20,
   "metadata": {},
   "outputs": [
    {
     "name": "stdout",
     "output_type": "stream",
     "text": [
      "{10, 51} node_features(X) :- feature(X, Y). [activation=identity]\n",
      "node_features/1 [activation=identity]\n",
      "{10, 10} l1_gsage(X) :- node_features(Y), edge(X, Y). [activation=identity, aggregation=avg]\n",
      "{10, 10} l1_gsage(X) :- node_features(X). [activation=identity]\n",
      "l1_gsage/1 [activation=relu]\n",
      "{10, 10} l2_gsage(X) :- l1_gsage(Y), edge(X, Y). [activation=identity, aggregation=avg]\n",
      "{10, 10} l2_gsage(X) :- l1_gsage(X). [activation=identity]\n",
      "l2_gsage/1 [activation=identity]\n",
      "{1, 10} predict :- l2_gsage(X). [activation=identity, aggregation=avg]\n",
      "predict/0 [activation=sigmoid]\n"
     ]
    }
   ],
   "source": [
    "module_list = TemplateList(\n",
    "    [\n",
    "        SAGEConv(in_channels=10, activation=Activation.RELU),\n",
    "        SAGEConv(in_channels=10),\n",
    "        Pooling(name=\"predict\", in_channels=10),\n",
    "    ],\n",
    "    num_features=51,\n",
    ")\n",
    "\n",
    "template = Template(module_list=module_list)\n",
    "\n",
    "print(template)"
   ]
  },
  {
   "cell_type": "code",
   "execution_count": 21,
   "metadata": {},
   "outputs": [],
   "source": [
    "from neuralogic.core import Backend\n",
    "\n",
    "model = template.build(backend=Backend.PYG, native_backend_models=True)\n"
   ]
  },
  {
   "cell_type": "code",
   "execution_count": 22,
   "metadata": {},
   "outputs": [
    {
     "name": "stdout",
     "output_type": "stream",
     "text": [
      "SAGEConv(51, 10)\n",
      "SAGEConv(10, 10)\n",
      "Linear(in_features=10, out_features=1, bias=False)\n"
     ]
    }
   ],
   "source": [
    "for e in model.modules:\n",
    "    print(e)"
   ]
  },
  {
   "cell_type": "code",
   "execution_count": 23,
   "metadata": {},
   "outputs": [
    {
     "name": "stdout",
     "output_type": "stream",
     "text": [
      "<function NeuraLogic.__init__.<locals>.<lambda> at 0x7f2c8fb958b0>\n",
      "<function NeuraLogic.__init__.<locals>.<lambda> at 0x7f2c8fb8d0d0>\n",
      "<function NeuraLogic.__init__.<locals>._pooling at 0x7f2c8fbfa700>\n"
     ]
    }
   ],
   "source": [
    "for e in model.evaluations:\n",
    "    print(e)"
   ]
  }
 ],
 "metadata": {
  "kernelspec": {
   "display_name": "Python 3",
   "language": "python",
   "name": "python3"
  },
  "language_info": {
   "codemirror_mode": {
    "name": "ipython",
    "version": 3
   },
   "file_extension": ".py",
   "mimetype": "text/x-python",
   "name": "python",
   "nbconvert_exporter": "python",
   "pygments_lexer": "ipython3",
   "version": "3.8.5"
  }
 },
 "nbformat": 4,
 "nbformat_minor": 1
}
