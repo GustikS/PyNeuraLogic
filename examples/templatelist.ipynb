{
 "cells": [
  {
   "cell_type": "code",
   "execution_count": 1,
   "metadata": {},
   "outputs": [],
   "source": [
    "from neuralogic.utils.templates import GIN, GraphSAGE, GCN, TemplateList\n",
    "from neuralogic.core import Template"
   ]
  },
  {
   "cell_type": "markdown",
   "metadata": {},
   "source": [
    "## GCN"
   ]
  },
  {
   "cell_type": "code",
   "execution_count": 2,
   "metadata": {},
   "outputs": [
    {
     "name": "stdout",
     "output_type": "stream",
     "text": [
      "node_features(X) :- feature(X, Y).\n",
      "{10, 10} l1_gcn(X) :- node_features(Y), edge(X, Y).\n",
      "{10, 1} predict :- l1_gcn(X).\n"
     ]
    }
   ],
   "source": [
    "template_list = TemplateList([GCN(weight_shape=(10,10))], (10,1))\n",
    "\n",
    "template = Template(template_list=template_list)\n",
    "\n",
    "print(template)"
   ]
  },
  {
   "cell_type": "code",
   "execution_count": 3,
   "metadata": {},
   "outputs": [
    {
     "name": "stdout",
     "output_type": "stream",
     "text": [
      "node_features(X) :- feature(X, Y).\n",
      "{10, 10} l1_gcn(X) :- node_features(Y), edge(X, Y).\n",
      "{10, 10} l2_gcn(X) :- l1_gcn(Y), edge(X, Y).\n",
      "{10, 10} l3_gcn(X) :- l2_gcn(Y), edge(X, Y).\n",
      "{10, 1} predict :- l3_gcn(X).\n"
     ]
    }
   ],
   "source": [
    "template_list = TemplateList([\n",
    "    GCN(weight_shape=(10,10)),\n",
    "    GCN(weight_shape=(10,10)),\n",
    "    GCN(weight_shape=(10,10)),\n",
    "], (10,1))\n",
    "\n",
    "template = Template(template_list=template_list)\n",
    "\n",
    "print(template)"
   ]
  },
  {
   "cell_type": "code",
   "execution_count": 4,
   "metadata": {},
   "outputs": [
    {
     "name": "stdout",
     "output_type": "stream",
     "text": [
      "node_features(X) :- feature(X, Y).\n",
      "{10, 10} l1_gcn(X) :- node_features(Y), edge(X, Y).\n",
      "{10, 10} l2_gcn(X) :- l1_gcn(Y), edge(X, Y).\n",
      "{10, 10} l3_gcn(X) :- l2_gcn(Y), edge(X, Y).\n",
      "{10, 10} l4_gcn(X) :- l3_gcn(Y), edge(X, Y).\n",
      "{10, 10} l5_gcn(X) :- l4_gcn(Y), edge(X, Y).\n",
      "{10, 1} predict :- l5_gcn(X).\n"
     ]
    }
   ],
   "source": [
    "template_list = TemplateList([GCN(weight_shape=(10,10))] * 5, (10,1))\n",
    "\n",
    "template = Template(template_list=template_list)\n",
    "\n",
    "print(template)"
   ]
  },
  {
   "cell_type": "markdown",
   "metadata": {},
   "source": [
    "# GIN"
   ]
  },
  {
   "cell_type": "code",
   "execution_count": 5,
   "metadata": {},
   "outputs": [
    {
     "name": "stdout",
     "output_type": "stream",
     "text": [
      "node_features(X) :- feature(X, Y).\n",
      "l1_gin_embed(X) :- node_features(Y), edge(X, Y).\n",
      "l1_gin_embed(X) :- node_features(X).\n",
      "{10, 10} l1_gin(X) :- {10, 10} l1_gin_embed(X).\n",
      "{10, 1} predict :- l1_gin(X).\n"
     ]
    }
   ],
   "source": [
    "template_list = TemplateList([GIN(weight_shape=(10,10))], (10,1))\n",
    "\n",
    "template = Template(template_list=template_list)\n",
    "\n",
    "print(template)"
   ]
  },
  {
   "cell_type": "code",
   "execution_count": 6,
   "metadata": {},
   "outputs": [
    {
     "name": "stdout",
     "output_type": "stream",
     "text": [
      "node_features(X) :- feature(X, Y).\n",
      "l1_gin_embed(X) :- node_features(Y), edge(X, Y).\n",
      "l1_gin_embed(X) :- node_features(X).\n",
      "{10, 10} l1_gin(X) :- {10, 10} l1_gin_embed(X).\n",
      "l2_gin_embed(X) :- l1_gin(Y), edge(X, Y).\n",
      "l2_gin_embed(X) :- l1_gin(X).\n",
      "{10, 10} l2_gin(X) :- {10, 10} l2_gin_embed(X).\n",
      "l3_gin_embed(X) :- l2_gin(Y), edge(X, Y).\n",
      "l3_gin_embed(X) :- l2_gin(X).\n",
      "{10, 10} l3_gin(X) :- {10, 10} l3_gin_embed(X).\n",
      "{10, 1} predict :- l3_gin(X).\n"
     ]
    }
   ],
   "source": [
    "template_list = TemplateList([\n",
    "    GIN(weight_shape=(10,10)),\n",
    "    GIN(weight_shape=(10,10)),\n",
    "    GIN(weight_shape=(10,10)),\n",
    "], (10,1))\n",
    "\n",
    "template = Template(template_list=template_list)\n",
    "\n",
    "print(template)"
   ]
  },
  {
   "cell_type": "markdown",
   "metadata": {},
   "source": [
    "# GraphSAGE"
   ]
  },
  {
   "cell_type": "code",
   "execution_count": 7,
   "metadata": {},
   "outputs": [
    {
     "name": "stdout",
     "output_type": "stream",
     "text": [
      "node_features(X) :- feature(X, Y).\n",
      "{10, 10} l1_gsage(X) :- node_features(Y), edge(X, Y).\n",
      "{10, 10} l1_gsage(X) :- node_features(X).\n",
      "{10, 1} predict :- l1_gsage(X).\n"
     ]
    }
   ],
   "source": [
    "template_list = TemplateList([GraphSAGE(weight_shape=(10,10))], (10,1))\n",
    "\n",
    "template = Template(template_list=template_list)\n",
    "\n",
    "print(template)"
   ]
  },
  {
   "cell_type": "code",
   "execution_count": 8,
   "metadata": {},
   "outputs": [
    {
     "name": "stdout",
     "output_type": "stream",
     "text": [
      "node_features(X) :- feature(X, Y).\n",
      "{10, 10} l1_gsage(X) :- node_features(Y), edge(X, Y).\n",
      "{10, 10} l1_gsage(X) :- node_features(X).\n",
      "{10, 10} l2_gsage(X) :- l1_gsage(Y), edge(X, Y).\n",
      "{10, 10} l2_gsage(X) :- l1_gsage(X).\n",
      "{10, 1} predict :- l2_gsage(X).\n"
     ]
    }
   ],
   "source": [
    "template_list = TemplateList([\n",
    "    GraphSAGE(weight_shape=(10,10)),\n",
    "    GraphSAGE(weight_shape=(10,10)),\n",
    "], (10,1))\n",
    "\n",
    "template = Template(template_list=template_list)\n",
    "\n",
    "print(template)"
   ]
  },
  {
   "cell_type": "markdown",
   "metadata": {},
   "source": [
    "# Mixing modules"
   ]
  },
  {
   "cell_type": "code",
   "execution_count": 9,
   "metadata": {},
   "outputs": [
    {
     "name": "stdout",
     "output_type": "stream",
     "text": [
      "node_features(X) :- feature(X, Y).\n",
      "{10, 10} l1_gsage(X) :- node_features(Y), edge(X, Y).\n",
      "{10, 10} l1_gsage(X) :- node_features(X).\n",
      "l2_gin_embed(X) :- l1_gsage(Y), edge(X, Y).\n",
      "l2_gin_embed(X) :- l1_gsage(X).\n",
      "{10, 10} l2_gin(X) :- {10, 10} l2_gin_embed(X).\n",
      "{10, 10} l3_gcn(X) :- l2_gin(Y), edge(X, Y).\n",
      "{10, 1} predict :- l3_gcn(X).\n"
     ]
    }
   ],
   "source": [
    "template_list = TemplateList([\n",
    "    GraphSAGE(weight_shape=(10,10)),\n",
    "    GIN(weight_shape=(10, 10)),\n",
    "    GCN(weight_shape=(10, 10)),\n",
    "], (10,1))\n",
    "\n",
    "template = Template(template_list=template_list)\n",
    "\n",
    "print(template)"
   ]
  },
  {
   "cell_type": "markdown",
   "metadata": {},
   "source": [
    "# Dataset data support"
   ]
  },
  {
   "cell_type": "code",
   "execution_count": 15,
   "metadata": {},
   "outputs": [
    {
     "name": "stdout",
     "output_type": "stream",
     "text": [
      "Query: 1.0 predict.\n",
      "Creates python rule/atom objects <class 'neuralogic.core.constructs.atom.WeightedAtom'>\n",
      "\n",
      "Example\n",
      "edge(0, 1).\n",
      "edge(1, 2).\n",
      "edge(2, 3).\n",
      "1.0 feature(0, 0).\n",
      "2.0 feature(0, 1).\n",
      "3.0 feature(0, 2).\n",
      "4.0 feature(1, 0).\n",
      "5.0 feature(1, 1).\n",
      "6.0 feature(1, 2).\n",
      "7.0 feature(2, 0).\n",
      "8.0 feature(2, 1).\n",
      "9.0 feature(2, 2).\n"
     ]
    }
   ],
   "source": [
    "from neuralogic.utils.data import Data, Dataset\n",
    "\n",
    "# = x\n",
    "node_features = [\n",
    "    [1.0, 2.0, 3.0],\n",
    "    [4.0, 5.0, 6.0],\n",
    "    [7.0, 8.0, 9.0]\n",
    "]\n",
    "\n",
    "\n",
    "# tuples of edges specified by indices of nodes\n",
    "edge_index = [\n",
    "    (0, 1),\n",
    "    (1, 2),\n",
    "    (2, 3),\n",
    "]\n",
    "\n",
    "# = y\n",
    "target = 1.0\n",
    "\n",
    "data = Data(x=node_features, edge_index=edge_index, y=target)\n",
    "dataset = Dataset(data=data)\n",
    "\n",
    "\n",
    "# hidden from the user (inside of `Template`)\n",
    "query, example = template_list.to_inputs(template, node_features, edge_index, target)\n",
    "\n",
    "\n",
    "# user would use one of\n",
    "# template.build_dataset(dataset)\n",
    "# evaluator.train(dataset)\n",
    "# evaluator.test(dataset)\n",
    "# evaluator.set_dataset(dataset)\n",
    "\n",
    "print(\"Query:\", query)\n",
    "print(\"Creates python rule/atom objects\", type(query))\n",
    "\n",
    "print(\"\\nExample\")\n",
    "for e in example:\n",
    "    print(str(e))\n"
   ]
  }
 ],
 "metadata": {
  "kernelspec": {
   "display_name": "Python 3",
   "language": "python",
   "name": "python3"
  },
  "language_info": {
   "codemirror_mode": {
    "name": "ipython",
    "version": 3
   },
   "file_extension": ".py",
   "mimetype": "text/x-python",
   "name": "python",
   "nbconvert_exporter": "python",
   "pygments_lexer": "ipython3",
   "version": "3.8.5"
  }
 },
 "nbformat": 4,
 "nbformat_minor": 1
}
